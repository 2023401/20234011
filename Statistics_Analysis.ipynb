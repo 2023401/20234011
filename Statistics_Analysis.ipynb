{
 "cells": [
  {
   "cell_type": "code",
   "execution_count": 5,
   "metadata": {
    "id": "9qZTYAIly6ee"
   },
   "outputs": [],
   "source": [
    "import pandas as pd\n",
    "import matplotlib.pyplot as plt\n",
    "import seaborn as sns"
   ]
  },
  {
   "cell_type": "code",
   "execution_count": 2,
   "metadata": {
    "id": "vjPLeXw-zAs_"
   },
   "outputs": [],
   "source": [
    "df = pd.read_csv(\"/content/Traffic_Flow.csv\")"
   ]
  },
  {
   "cell_type": "code",
   "execution_count": 3,
   "metadata": {
    "colab": {
     "base_uri": "https://localhost:8080/",
     "height": 293
    },
    "id": "UTxnZvVn4_JM",
    "outputId": "097a3025-c0b9-4b4d-bc43-2ffff79fc78a"
   },
   "outputs": [
    {
     "data": {
      "text/html": [
       "\n",
       "  <div id=\"df-35244910-7f27-4922-b417-20dc8cd41756\" class=\"colab-df-container\">\n",
       "    <div>\n",
       "<style scoped>\n",
       "    .dataframe tbody tr th:only-of-type {\n",
       "        vertical-align: middle;\n",
       "    }\n",
       "\n",
       "    .dataframe tbody tr th {\n",
       "        vertical-align: top;\n",
       "    }\n",
       "\n",
       "    .dataframe thead th {\n",
       "        text-align: right;\n",
       "    }\n",
       "</style>\n",
       "<table border=\"1\" class=\"dataframe\">\n",
       "  <thead>\n",
       "    <tr style=\"text-align: right;\">\n",
       "      <th></th>\n",
       "      <th>site</th>\n",
       "      <th>day</th>\n",
       "      <th>date</th>\n",
       "      <th>start_time</th>\n",
       "      <th>end_time</th>\n",
       "      <th>flow</th>\n",
       "      <th>flow_pc</th>\n",
       "      <th>cong</th>\n",
       "      <th>cong_pc</th>\n",
       "      <th>dsat</th>\n",
       "      <th>dsat_pc</th>\n",
       "      <th>ObjectId</th>\n",
       "    </tr>\n",
       "  </thead>\n",
       "  <tbody>\n",
       "    <tr>\n",
       "      <th>0</th>\n",
       "      <td>N01111A</td>\n",
       "      <td>TH</td>\n",
       "      <td>05/01/2023</td>\n",
       "      <td>2023/07/04 08:30:00+00</td>\n",
       "      <td>09:45</td>\n",
       "      <td>0</td>\n",
       "      <td>0</td>\n",
       "      <td>0</td>\n",
       "      <td>0</td>\n",
       "      <td>50</td>\n",
       "      <td>98</td>\n",
       "      <td>1</td>\n",
       "    </tr>\n",
       "    <tr>\n",
       "      <th>1</th>\n",
       "      <td>N01111A</td>\n",
       "      <td>WE</td>\n",
       "      <td>04/01/2023</td>\n",
       "      <td>2023/07/04 07:30:00+00</td>\n",
       "      <td>08:45</td>\n",
       "      <td>300</td>\n",
       "      <td>100</td>\n",
       "      <td>0</td>\n",
       "      <td>100</td>\n",
       "      <td>22</td>\n",
       "      <td>98</td>\n",
       "      <td>2</td>\n",
       "    </tr>\n",
       "    <tr>\n",
       "      <th>2</th>\n",
       "      <td>N01111A</td>\n",
       "      <td>FR</td>\n",
       "      <td>06/01/2023</td>\n",
       "      <td>2023/07/04 09:30:00+00</td>\n",
       "      <td>10:45</td>\n",
       "      <td>445</td>\n",
       "      <td>100</td>\n",
       "      <td>0</td>\n",
       "      <td>100</td>\n",
       "      <td>31</td>\n",
       "      <td>100</td>\n",
       "      <td>3</td>\n",
       "    </tr>\n",
       "    <tr>\n",
       "      <th>3</th>\n",
       "      <td>N01111A</td>\n",
       "      <td>TU</td>\n",
       "      <td>03/01/2023</td>\n",
       "      <td>2023/07/04 06:30:00+00</td>\n",
       "      <td>07:45</td>\n",
       "      <td>0</td>\n",
       "      <td>0</td>\n",
       "      <td>0</td>\n",
       "      <td>0</td>\n",
       "      <td>11</td>\n",
       "      <td>32</td>\n",
       "      <td>4</td>\n",
       "    </tr>\n",
       "    <tr>\n",
       "      <th>4</th>\n",
       "      <td>N01111A</td>\n",
       "      <td>TH</td>\n",
       "      <td>05/01/2023</td>\n",
       "      <td>2023/07/04 08:45:00+00</td>\n",
       "      <td>10:00</td>\n",
       "      <td>0</td>\n",
       "      <td>0</td>\n",
       "      <td>0</td>\n",
       "      <td>0</td>\n",
       "      <td>50</td>\n",
       "      <td>107</td>\n",
       "      <td>5</td>\n",
       "    </tr>\n",
       "  </tbody>\n",
       "</table>\n",
       "</div>\n",
       "    <div class=\"colab-df-buttons\">\n",
       "\n",
       "  <div class=\"colab-df-container\">\n",
       "    <button class=\"colab-df-convert\" onclick=\"convertToInteractive('df-35244910-7f27-4922-b417-20dc8cd41756')\"\n",
       "            title=\"Convert this dataframe to an interactive table.\"\n",
       "            style=\"display:none;\">\n",
       "\n",
       "  <svg xmlns=\"http://www.w3.org/2000/svg\" height=\"24px\" viewBox=\"0 -960 960 960\">\n",
       "    <path d=\"M120-120v-720h720v720H120Zm60-500h600v-160H180v160Zm220 220h160v-160H400v160Zm0 220h160v-160H400v160ZM180-400h160v-160H180v160Zm440 0h160v-160H620v160ZM180-180h160v-160H180v160Zm440 0h160v-160H620v160Z\"/>\n",
       "  </svg>\n",
       "    </button>\n",
       "\n",
       "  <style>\n",
       "    .colab-df-container {\n",
       "      display:flex;\n",
       "      gap: 12px;\n",
       "    }\n",
       "\n",
       "    .colab-df-convert {\n",
       "      background-color: #E8F0FE;\n",
       "      border: none;\n",
       "      border-radius: 50%;\n",
       "      cursor: pointer;\n",
       "      display: none;\n",
       "      fill: #1967D2;\n",
       "      height: 32px;\n",
       "      padding: 0 0 0 0;\n",
       "      width: 32px;\n",
       "    }\n",
       "\n",
       "    .colab-df-convert:hover {\n",
       "      background-color: #E2EBFA;\n",
       "      box-shadow: 0px 1px 2px rgba(60, 64, 67, 0.3), 0px 1px 3px 1px rgba(60, 64, 67, 0.15);\n",
       "      fill: #174EA6;\n",
       "    }\n",
       "\n",
       "    .colab-df-buttons div {\n",
       "      margin-bottom: 4px;\n",
       "    }\n",
       "\n",
       "    [theme=dark] .colab-df-convert {\n",
       "      background-color: #3B4455;\n",
       "      fill: #D2E3FC;\n",
       "    }\n",
       "\n",
       "    [theme=dark] .colab-df-convert:hover {\n",
       "      background-color: #434B5C;\n",
       "      box-shadow: 0px 1px 3px 1px rgba(0, 0, 0, 0.15);\n",
       "      filter: drop-shadow(0px 1px 2px rgba(0, 0, 0, 0.3));\n",
       "      fill: #FFFFFF;\n",
       "    }\n",
       "  </style>\n",
       "\n",
       "    <script>\n",
       "      const buttonEl =\n",
       "        document.querySelector('#df-35244910-7f27-4922-b417-20dc8cd41756 button.colab-df-convert');\n",
       "      buttonEl.style.display =\n",
       "        google.colab.kernel.accessAllowed ? 'block' : 'none';\n",
       "\n",
       "      async function convertToInteractive(key) {\n",
       "        const element = document.querySelector('#df-35244910-7f27-4922-b417-20dc8cd41756');\n",
       "        const dataTable =\n",
       "          await google.colab.kernel.invokeFunction('convertToInteractive',\n",
       "                                                    [key], {});\n",
       "        if (!dataTable) return;\n",
       "\n",
       "        const docLinkHtml = 'Like what you see? Visit the ' +\n",
       "          '<a target=\"_blank\" href=https://colab.research.google.com/notebooks/data_table.ipynb>data table notebook</a>'\n",
       "          + ' to learn more about interactive tables.';\n",
       "        element.innerHTML = '';\n",
       "        dataTable['output_type'] = 'display_data';\n",
       "        await google.colab.output.renderOutput(dataTable, element);\n",
       "        const docLink = document.createElement('div');\n",
       "        docLink.innerHTML = docLinkHtml;\n",
       "        element.appendChild(docLink);\n",
       "      }\n",
       "    </script>\n",
       "  </div>\n",
       "\n",
       "\n",
       "<div id=\"df-a210f436-3a12-40d2-8f75-af5c0d8b9457\">\n",
       "  <button class=\"colab-df-quickchart\" onclick=\"quickchart('df-a210f436-3a12-40d2-8f75-af5c0d8b9457')\"\n",
       "            title=\"Suggest charts\"\n",
       "            style=\"display:none;\">\n",
       "\n",
       "<svg xmlns=\"http://www.w3.org/2000/svg\" height=\"24px\"viewBox=\"0 0 24 24\"\n",
       "     width=\"24px\">\n",
       "    <g>\n",
       "        <path d=\"M19 3H5c-1.1 0-2 .9-2 2v14c0 1.1.9 2 2 2h14c1.1 0 2-.9 2-2V5c0-1.1-.9-2-2-2zM9 17H7v-7h2v7zm4 0h-2V7h2v10zm4 0h-2v-4h2v4z\"/>\n",
       "    </g>\n",
       "</svg>\n",
       "  </button>\n",
       "\n",
       "<style>\n",
       "  .colab-df-quickchart {\n",
       "      --bg-color: #E8F0FE;\n",
       "      --fill-color: #1967D2;\n",
       "      --hover-bg-color: #E2EBFA;\n",
       "      --hover-fill-color: #174EA6;\n",
       "      --disabled-fill-color: #AAA;\n",
       "      --disabled-bg-color: #DDD;\n",
       "  }\n",
       "\n",
       "  [theme=dark] .colab-df-quickchart {\n",
       "      --bg-color: #3B4455;\n",
       "      --fill-color: #D2E3FC;\n",
       "      --hover-bg-color: #434B5C;\n",
       "      --hover-fill-color: #FFFFFF;\n",
       "      --disabled-bg-color: #3B4455;\n",
       "      --disabled-fill-color: #666;\n",
       "  }\n",
       "\n",
       "  .colab-df-quickchart {\n",
       "    background-color: var(--bg-color);\n",
       "    border: none;\n",
       "    border-radius: 50%;\n",
       "    cursor: pointer;\n",
       "    display: none;\n",
       "    fill: var(--fill-color);\n",
       "    height: 32px;\n",
       "    padding: 0;\n",
       "    width: 32px;\n",
       "  }\n",
       "\n",
       "  .colab-df-quickchart:hover {\n",
       "    background-color: var(--hover-bg-color);\n",
       "    box-shadow: 0 1px 2px rgba(60, 64, 67, 0.3), 0 1px 3px 1px rgba(60, 64, 67, 0.15);\n",
       "    fill: var(--button-hover-fill-color);\n",
       "  }\n",
       "\n",
       "  .colab-df-quickchart-complete:disabled,\n",
       "  .colab-df-quickchart-complete:disabled:hover {\n",
       "    background-color: var(--disabled-bg-color);\n",
       "    fill: var(--disabled-fill-color);\n",
       "    box-shadow: none;\n",
       "  }\n",
       "\n",
       "  .colab-df-spinner {\n",
       "    border: 2px solid var(--fill-color);\n",
       "    border-color: transparent;\n",
       "    border-bottom-color: var(--fill-color);\n",
       "    animation:\n",
       "      spin 1s steps(1) infinite;\n",
       "  }\n",
       "\n",
       "  @keyframes spin {\n",
       "    0% {\n",
       "      border-color: transparent;\n",
       "      border-bottom-color: var(--fill-color);\n",
       "      border-left-color: var(--fill-color);\n",
       "    }\n",
       "    20% {\n",
       "      border-color: transparent;\n",
       "      border-left-color: var(--fill-color);\n",
       "      border-top-color: var(--fill-color);\n",
       "    }\n",
       "    30% {\n",
       "      border-color: transparent;\n",
       "      border-left-color: var(--fill-color);\n",
       "      border-top-color: var(--fill-color);\n",
       "      border-right-color: var(--fill-color);\n",
       "    }\n",
       "    40% {\n",
       "      border-color: transparent;\n",
       "      border-right-color: var(--fill-color);\n",
       "      border-top-color: var(--fill-color);\n",
       "    }\n",
       "    60% {\n",
       "      border-color: transparent;\n",
       "      border-right-color: var(--fill-color);\n",
       "    }\n",
       "    80% {\n",
       "      border-color: transparent;\n",
       "      border-right-color: var(--fill-color);\n",
       "      border-bottom-color: var(--fill-color);\n",
       "    }\n",
       "    90% {\n",
       "      border-color: transparent;\n",
       "      border-bottom-color: var(--fill-color);\n",
       "    }\n",
       "  }\n",
       "</style>\n",
       "\n",
       "  <script>\n",
       "    async function quickchart(key) {\n",
       "      const quickchartButtonEl =\n",
       "        document.querySelector('#' + key + ' button');\n",
       "      quickchartButtonEl.disabled = true;  // To prevent multiple clicks.\n",
       "      quickchartButtonEl.classList.add('colab-df-spinner');\n",
       "      try {\n",
       "        const charts = await google.colab.kernel.invokeFunction(\n",
       "            'suggestCharts', [key], {});\n",
       "      } catch (error) {\n",
       "        console.error('Error during call to suggestCharts:', error);\n",
       "      }\n",
       "      quickchartButtonEl.classList.remove('colab-df-spinner');\n",
       "      quickchartButtonEl.classList.add('colab-df-quickchart-complete');\n",
       "    }\n",
       "    (() => {\n",
       "      let quickchartButtonEl =\n",
       "        document.querySelector('#df-a210f436-3a12-40d2-8f75-af5c0d8b9457 button');\n",
       "      quickchartButtonEl.style.display =\n",
       "        google.colab.kernel.accessAllowed ? 'block' : 'none';\n",
       "    })();\n",
       "  </script>\n",
       "</div>\n",
       "\n",
       "    </div>\n",
       "  </div>\n"
      ],
      "text/plain": [
       "      site day        date              start_time end_time  flow  flow_pc  \\\n",
       "0  N01111A  TH  05/01/2023  2023/07/04 08:30:00+00    09:45     0        0   \n",
       "1  N01111A  WE  04/01/2023  2023/07/04 07:30:00+00    08:45   300      100   \n",
       "2  N01111A  FR  06/01/2023  2023/07/04 09:30:00+00    10:45   445      100   \n",
       "3  N01111A  TU  03/01/2023  2023/07/04 06:30:00+00    07:45     0        0   \n",
       "4  N01111A  TH  05/01/2023  2023/07/04 08:45:00+00    10:00     0        0   \n",
       "\n",
       "   cong  cong_pc  dsat  dsat_pc  ObjectId  \n",
       "0     0        0    50       98         1  \n",
       "1     0      100    22       98         2  \n",
       "2     0      100    31      100         3  \n",
       "3     0        0    11       32         4  \n",
       "4     0        0    50      107         5  "
      ]
     },
     "execution_count": 3,
     "metadata": {},
     "output_type": "execute_result"
    }
   ],
   "source": [
    "df.head()"
   ]
  },
  {
   "cell_type": "code",
   "execution_count": 4,
   "metadata": {
    "colab": {
     "base_uri": "https://localhost:8080/"
    },
    "id": "pp1G0djz5BWb",
    "outputId": "ac3416af-1f8f-4b85-cd64-a699f30fcac3"
   },
   "outputs": [
    {
     "name": "stdout",
     "output_type": "stream",
     "text": [
      "<class 'pandas.core.frame.DataFrame'>\n",
      "RangeIndex: 1048575 entries, 0 to 1048574\n",
      "Data columns (total 12 columns):\n",
      " #   Column      Non-Null Count    Dtype \n",
      "---  ------      --------------    ----- \n",
      " 0   site        1048575 non-null  object\n",
      " 1   day         1048575 non-null  object\n",
      " 2   date        1048575 non-null  object\n",
      " 3   start_time  1048575 non-null  object\n",
      " 4   end_time    1048575 non-null  object\n",
      " 5   flow        1048575 non-null  int64 \n",
      " 6   flow_pc     1048575 non-null  int64 \n",
      " 7   cong        1048575 non-null  int64 \n",
      " 8   cong_pc     1048575 non-null  int64 \n",
      " 9   dsat        1048575 non-null  int64 \n",
      " 10  dsat_pc     1048575 non-null  int64 \n",
      " 11  ObjectId    1048575 non-null  int64 \n",
      "dtypes: int64(7), object(5)\n",
      "memory usage: 96.0+ MB\n"
     ]
    }
   ],
   "source": [
    "df.info()"
   ]
  },
  {
   "cell_type": "code",
   "execution_count": 6,
   "metadata": {
    "colab": {
     "base_uri": "https://localhost:8080/"
    },
    "id": "GL52Snod5C3W",
    "outputId": "370a3799-1f2a-4a56-ae8a-55ee5eb89277"
   },
   "outputs": [
    {
     "name": "stdout",
     "output_type": "stream",
     "text": [
      "               flow       flow_pc          cong       cong_pc          dsat  \\\n",
      "count  1.048575e+06  1.048575e+06  1.048575e+06  1.048575e+06  1.048575e+06   \n",
      "mean   1.330048e+02  6.874974e+01  5.719858e-01  6.874974e+01  2.428677e+01   \n",
      "std    2.100803e+02  4.622401e+01  3.554286e+00  4.622401e+01  3.343699e+01   \n",
      "min    0.000000e+00  0.000000e+00  0.000000e+00  0.000000e+00  0.000000e+00   \n",
      "25%    0.000000e+00  0.000000e+00  0.000000e+00  0.000000e+00  0.000000e+00   \n",
      "50%    1.600000e+01  1.000000e+02  0.000000e+00  1.000000e+02  1.100000e+01   \n",
      "75%    1.910000e+02  1.000000e+02  0.000000e+00  1.000000e+02  4.100000e+01   \n",
      "max    2.142000e+03  2.000000e+02  8.900000e+01  2.000000e+02  1.356000e+03   \n",
      "\n",
      "            dsat_pc      ObjectId  \n",
      "count  1.048575e+06  1.048575e+06  \n",
      "mean   7.088241e+01  5.242880e+05  \n",
      "std    4.278320e+01  3.026977e+05  \n",
      "min    0.000000e+00  1.000000e+00  \n",
      "25%    2.400000e+01  2.621445e+05  \n",
      "50%    9.700000e+01  5.242880e+05  \n",
      "75%    1.000000e+02  7.864315e+05  \n",
      "max    1.880000e+02  1.048575e+06  \n"
     ]
    }
   ],
   "source": [
    "# Summary statistics for numerical columns\n",
    "print(df.describe())"
   ]
  },
  {
   "cell_type": "code",
   "execution_count": 7,
   "metadata": {
    "colab": {
     "base_uri": "https://localhost:8080/"
    },
    "id": "eMAmJc405QzZ",
    "outputId": "d568dccf-b2c5-4629-a7a9-38575b4688f4"
   },
   "outputs": [
    {
     "name": "stdout",
     "output_type": "stream",
     "text": [
      "site          0\n",
      "day           0\n",
      "date          0\n",
      "start_time    0\n",
      "end_time      0\n",
      "flow          0\n",
      "flow_pc       0\n",
      "cong          0\n",
      "cong_pc       0\n",
      "dsat          0\n",
      "dsat_pc       0\n",
      "ObjectId      0\n",
      "dtype: int64\n"
     ]
    }
   ],
   "source": [
    "# Check for missing values\n",
    "print(df.isnull().sum())"
   ]
  },
  {
   "cell_type": "code",
   "execution_count": 22,
   "metadata": {
    "colab": {
     "base_uri": "https://localhost:8080/"
    },
    "id": "ek-aWbPz7OaM",
    "outputId": "6eb8a797-145b-4076-9da6-77c7d8a33e8c"
   },
   "outputs": [
    {
     "name": "stdout",
     "output_type": "stream",
     "text": [
      "Site 1 Flow Variability: nan\n",
      "Site 2 Flow Variability: nan\n",
      "T-Statistic: nan, P-Value: nan\n"
     ]
    }
   ],
   "source": [
    "from scipy.stats import ttest_ind\n",
    "\n",
    "# Check variability in 'flow' for two specific sites (replace site_1 and site_2 with actual site names)\n",
    "site_1_data = df[df['site'] == 'site_1']['flow']\n",
    "site_2_data = df[df['site'] == 'site_2']['flow']\n",
    "\n",
    "print(f\"Site 1 Flow Variability: {site_1_data.var()}\")\n",
    "print(f\"Site 2 Flow Variability: {site_2_data.var()}\")\n",
    "\n",
    "# T-test\n",
    "t_statistic, p_value = ttest_ind(site_1_data, site_2_data, nan_policy='omit')\n",
    "print(f'T-Statistic: {t_statistic}, P-Value: {p_value}')\n"
   ]
  },
  {
   "cell_type": "markdown",
   "metadata": {
    "id": "4Nci_dDm71p2"
   },
   "source": [
    "## encountering challenges with the T-test due to issues with variability in the 'flow' data for specific sites, or if you're looking for alternative techniques"
   ]
  },
  {
   "cell_type": "markdown",
   "metadata": {
    "id": "P9LMhTye76g9"
   },
   "source": [
    "# Kruskal-Wallis H Test:\n",
    "\n",
    "This is a non-parametric test that can be used to compare three or more groups when the assumptions of normality and equal variances are not met."
   ]
  },
  {
   "cell_type": "code",
   "execution_count": 24,
   "metadata": {
    "colab": {
     "base_uri": "https://localhost:8080/"
    },
    "id": "8KltTWDi7Oc6",
    "outputId": "43ebec4c-2149-4a7d-a45d-af9b3edb9c58"
   },
   "outputs": [
    {
     "name": "stdout",
     "output_type": "stream",
     "text": [
      "Kruskal-Wallis H Statistic: nan, P-Value: nan\n"
     ]
    }
   ],
   "source": [
    "from scipy.stats import kruskal\n",
    "\n",
    "# Assuming there are more than two sites\n",
    "site_3_data = df[df['site'] == 'site_3']['flow']\n",
    "\n",
    "# Kruskal-Wallis H Test\n",
    "H_statistic, p_value_kruskal = kruskal(site_1_data, site_2_data, site_3_data)\n",
    "print(f'Kruskal-Wallis H Statistic: {H_statistic}, P-Value: {p_value_kruskal}')\n"
   ]
  },
  {
   "cell_type": "markdown",
   "metadata": {
    "id": "iIlhui638Mcd"
   },
   "source": [
    "## Spearman"
   ]
  },
  {
   "cell_type": "code",
   "execution_count": 25,
   "metadata": {
    "colab": {
     "base_uri": "https://localhost:8080/"
    },
    "id": "KuCLyKzW7OgN",
    "outputId": "1c08459e-c7f9-422e-a46c-067e440ba526"
   },
   "outputs": [
    {
     "name": "stdout",
     "output_type": "stream",
     "text": [
      "Spearman Rank Correlation Coefficient: 0.6936086610371052, P-Value: 0.0\n"
     ]
    }
   ],
   "source": [
    "from scipy.stats import spearmanr\n",
    "\n",
    "# Spearman's Rank Correlation\n",
    "correlation_coefficient, p_value_spearman = spearmanr(df['flow'], df['cong_pc'])\n",
    "print(f'Spearman Rank Correlation Coefficient: {correlation_coefficient}, P-Value: {p_value_spearman}')\n"
   ]
  },
  {
   "cell_type": "markdown",
   "metadata": {
    "id": "v-MCbqxw8cCq"
   },
   "source": [
    "## ANOVA"
   ]
  },
  {
   "cell_type": "code",
   "execution_count": 27,
   "metadata": {
    "colab": {
     "base_uri": "https://localhost:8080/"
    },
    "id": "mkjh_lXS7Oiq",
    "outputId": "8abae376-7189-4ed4-e1bc-2e3337871568"
   },
   "outputs": [
    {
     "name": "stdout",
     "output_type": "stream",
     "text": [
      "ANOVA F-Statistic: nan, P-Value: nan\n"
     ]
    },
    {
     "name": "stderr",
     "output_type": "stream",
     "text": [
      "/usr/local/lib/python3.10/dist-packages/scipy/stats/_stats_py.py:4133: DegenerateDataWarning: at least one input has length 0\n",
      "  warnings.warn(stats.DegenerateDataWarning('at least one input '\n"
     ]
    }
   ],
   "source": [
    "from scipy.stats import f_oneway\n",
    "\n",
    "# Assuming there are more than two sites\n",
    "site_3_data = df[df['site'] == 'site_3']['flow']\n",
    "\n",
    "# ANOVA\n",
    "F_statistic, p_value_anova = f_oneway(site_1_data, site_2_data, site_3_data)\n",
    "print(f'ANOVA F-Statistic: {F_statistic}, P-Value: {p_value_anova}')\n"
   ]
  }
 ],
 "metadata": {
  "colab": {
   "provenance": []
  },
  "kernelspec": {
   "display_name": "Python 3 (ipykernel)",
   "language": "python",
   "name": "python3"
  },
  "language_info": {
   "codemirror_mode": {
    "name": "ipython",
    "version": 3
   },
   "file_extension": ".py",
   "mimetype": "text/x-python",
   "name": "python",
   "nbconvert_exporter": "python",
   "pygments_lexer": "ipython3",
   "version": "3.9.12"
  }
 },
 "nbformat": 4,
 "nbformat_minor": 1
}
