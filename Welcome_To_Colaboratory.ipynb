{
  "cells": [
    {
      "cell_type": "code",
      "source": [
        "import pandas as pd\n",
        "import numpy as np"
      ],
      "metadata": {
        "id": "sKbVwOg6fDWt"
      },
      "execution_count": 1,
      "outputs": []
    },
    {
      "cell_type": "code",
      "source": [
        "df = pd.read_csv(\"/content/local_authority_traffic.csv\")"
      ],
      "metadata": {
        "id": "XJSl0JCMfHRb"
      },
      "execution_count": 2,
      "outputs": []
    },
    {
      "cell_type": "code",
      "source": [
        "df.info()"
      ],
      "metadata": {
        "id": "lJcknf_BfLF9",
        "outputId": "a0926e66-c425-4ce0-96d7-47ac8ee05c32",
        "colab": {
          "base_uri": "https://localhost:8080/"
        }
      },
      "execution_count": 3,
      "outputs": [
        {
          "output_type": "stream",
          "name": "stdout",
          "text": [
            "<class 'pandas.core.frame.DataFrame'>\n",
            "RangeIndex: 5529 entries, 0 to 5528\n",
            "Data columns (total 7 columns):\n",
            " #   Column                Non-Null Count  Dtype  \n",
            "---  ------                --------------  -----  \n",
            " 0   local_authority_id    5529 non-null   int64  \n",
            " 1   local_authority_name  5529 non-null   object \n",
            " 2   year                  5529 non-null   int64  \n",
            " 3   link_length_km        5529 non-null   float64\n",
            " 4   link_length_miles     5529 non-null   float64\n",
            " 5   cars_and_taxis        5529 non-null   float64\n",
            " 6   all_motor_vehicles    5529 non-null   float64\n",
            "dtypes: float64(4), int64(2), object(1)\n",
            "memory usage: 302.5+ KB\n"
          ]
        }
      ]
    },
    {
      "cell_type": "code",
      "source": [
        "df.shape"
      ],
      "metadata": {
        "id": "nKJzVczpfM8c",
        "outputId": "63ae3d23-1ef6-4de8-dc01-8d970b9fa64a",
        "colab": {
          "base_uri": "https://localhost:8080/"
        }
      },
      "execution_count": 4,
      "outputs": [
        {
          "output_type": "execute_result",
          "data": {
            "text/plain": [
              "(5529, 7)"
            ]
          },
          "metadata": {},
          "execution_count": 4
        }
      ]
    },
    {
      "cell_type": "code",
      "source": [
        "df.head(5)"
      ],
      "metadata": {
        "id": "k4moXFfzfN0c",
        "outputId": "5b518899-e839-4a68-c0c6-b6aae064b517",
        "colab": {
          "base_uri": "https://localhost:8080/",
          "height": 206
        }
      },
      "execution_count": 5,
      "outputs": [
        {
          "output_type": "execute_result",
          "data": {
            "text/plain": [
              "   local_authority_id local_authority_name  year  link_length_km  \\\n",
              "0                  45        Aberdeenshire  2019        6273.378   \n",
              "1                 107              Lambeth  2019         377.000   \n",
              "2                 172  Newcastle upon Tyne  2019         984.992   \n",
              "3                  93        Tower Hamlets  2019         287.327   \n",
              "4                 158           St. Helens  2019         740.220   \n",
              "\n",
              "   link_length_miles  cars_and_taxis  all_motor_vehicles  \n",
              "0            3898.10    1.537817e+09        2.055245e+09  \n",
              "1             234.26    3.977109e+08        5.471234e+08  \n",
              "2             612.05    1.006029e+09        1.209012e+09  \n",
              "3             178.54    4.652937e+08        6.309388e+08  \n",
              "4             459.95    7.281754e+08        9.307801e+08  "
            ],
            "text/html": [
              "\n",
              "  <div id=\"df-3139d4c9-ccb2-4dd8-a892-10569d449d7e\" class=\"colab-df-container\">\n",
              "    <div>\n",
              "<style scoped>\n",
              "    .dataframe tbody tr th:only-of-type {\n",
              "        vertical-align: middle;\n",
              "    }\n",
              "\n",
              "    .dataframe tbody tr th {\n",
              "        vertical-align: top;\n",
              "    }\n",
              "\n",
              "    .dataframe thead th {\n",
              "        text-align: right;\n",
              "    }\n",
              "</style>\n",
              "<table border=\"1\" class=\"dataframe\">\n",
              "  <thead>\n",
              "    <tr style=\"text-align: right;\">\n",
              "      <th></th>\n",
              "      <th>local_authority_id</th>\n",
              "      <th>local_authority_name</th>\n",
              "      <th>year</th>\n",
              "      <th>link_length_km</th>\n",
              "      <th>link_length_miles</th>\n",
              "      <th>cars_and_taxis</th>\n",
              "      <th>all_motor_vehicles</th>\n",
              "    </tr>\n",
              "  </thead>\n",
              "  <tbody>\n",
              "    <tr>\n",
              "      <th>0</th>\n",
              "      <td>45</td>\n",
              "      <td>Aberdeenshire</td>\n",
              "      <td>2019</td>\n",
              "      <td>6273.378</td>\n",
              "      <td>3898.10</td>\n",
              "      <td>1.537817e+09</td>\n",
              "      <td>2.055245e+09</td>\n",
              "    </tr>\n",
              "    <tr>\n",
              "      <th>1</th>\n",
              "      <td>107</td>\n",
              "      <td>Lambeth</td>\n",
              "      <td>2019</td>\n",
              "      <td>377.000</td>\n",
              "      <td>234.26</td>\n",
              "      <td>3.977109e+08</td>\n",
              "      <td>5.471234e+08</td>\n",
              "    </tr>\n",
              "    <tr>\n",
              "      <th>2</th>\n",
              "      <td>172</td>\n",
              "      <td>Newcastle upon Tyne</td>\n",
              "      <td>2019</td>\n",
              "      <td>984.992</td>\n",
              "      <td>612.05</td>\n",
              "      <td>1.006029e+09</td>\n",
              "      <td>1.209012e+09</td>\n",
              "    </tr>\n",
              "    <tr>\n",
              "      <th>3</th>\n",
              "      <td>93</td>\n",
              "      <td>Tower Hamlets</td>\n",
              "      <td>2019</td>\n",
              "      <td>287.327</td>\n",
              "      <td>178.54</td>\n",
              "      <td>4.652937e+08</td>\n",
              "      <td>6.309388e+08</td>\n",
              "    </tr>\n",
              "    <tr>\n",
              "      <th>4</th>\n",
              "      <td>158</td>\n",
              "      <td>St. Helens</td>\n",
              "      <td>2019</td>\n",
              "      <td>740.220</td>\n",
              "      <td>459.95</td>\n",
              "      <td>7.281754e+08</td>\n",
              "      <td>9.307801e+08</td>\n",
              "    </tr>\n",
              "  </tbody>\n",
              "</table>\n",
              "</div>\n",
              "    <div class=\"colab-df-buttons\">\n",
              "\n",
              "  <div class=\"colab-df-container\">\n",
              "    <button class=\"colab-df-convert\" onclick=\"convertToInteractive('df-3139d4c9-ccb2-4dd8-a892-10569d449d7e')\"\n",
              "            title=\"Convert this dataframe to an interactive table.\"\n",
              "            style=\"display:none;\">\n",
              "\n",
              "  <svg xmlns=\"http://www.w3.org/2000/svg\" height=\"24px\" viewBox=\"0 -960 960 960\">\n",
              "    <path d=\"M120-120v-720h720v720H120Zm60-500h600v-160H180v160Zm220 220h160v-160H400v160Zm0 220h160v-160H400v160ZM180-400h160v-160H180v160Zm440 0h160v-160H620v160ZM180-180h160v-160H180v160Zm440 0h160v-160H620v160Z\"/>\n",
              "  </svg>\n",
              "    </button>\n",
              "\n",
              "  <style>\n",
              "    .colab-df-container {\n",
              "      display:flex;\n",
              "      gap: 12px;\n",
              "    }\n",
              "\n",
              "    .colab-df-convert {\n",
              "      background-color: #E8F0FE;\n",
              "      border: none;\n",
              "      border-radius: 50%;\n",
              "      cursor: pointer;\n",
              "      display: none;\n",
              "      fill: #1967D2;\n",
              "      height: 32px;\n",
              "      padding: 0 0 0 0;\n",
              "      width: 32px;\n",
              "    }\n",
              "\n",
              "    .colab-df-convert:hover {\n",
              "      background-color: #E2EBFA;\n",
              "      box-shadow: 0px 1px 2px rgba(60, 64, 67, 0.3), 0px 1px 3px 1px rgba(60, 64, 67, 0.15);\n",
              "      fill: #174EA6;\n",
              "    }\n",
              "\n",
              "    .colab-df-buttons div {\n",
              "      margin-bottom: 4px;\n",
              "    }\n",
              "\n",
              "    [theme=dark] .colab-df-convert {\n",
              "      background-color: #3B4455;\n",
              "      fill: #D2E3FC;\n",
              "    }\n",
              "\n",
              "    [theme=dark] .colab-df-convert:hover {\n",
              "      background-color: #434B5C;\n",
              "      box-shadow: 0px 1px 3px 1px rgba(0, 0, 0, 0.15);\n",
              "      filter: drop-shadow(0px 1px 2px rgba(0, 0, 0, 0.3));\n",
              "      fill: #FFFFFF;\n",
              "    }\n",
              "  </style>\n",
              "\n",
              "    <script>\n",
              "      const buttonEl =\n",
              "        document.querySelector('#df-3139d4c9-ccb2-4dd8-a892-10569d449d7e button.colab-df-convert');\n",
              "      buttonEl.style.display =\n",
              "        google.colab.kernel.accessAllowed ? 'block' : 'none';\n",
              "\n",
              "      async function convertToInteractive(key) {\n",
              "        const element = document.querySelector('#df-3139d4c9-ccb2-4dd8-a892-10569d449d7e');\n",
              "        const dataTable =\n",
              "          await google.colab.kernel.invokeFunction('convertToInteractive',\n",
              "                                                    [key], {});\n",
              "        if (!dataTable) return;\n",
              "\n",
              "        const docLinkHtml = 'Like what you see? Visit the ' +\n",
              "          '<a target=\"_blank\" href=https://colab.research.google.com/notebooks/data_table.ipynb>data table notebook</a>'\n",
              "          + ' to learn more about interactive tables.';\n",
              "        element.innerHTML = '';\n",
              "        dataTable['output_type'] = 'display_data';\n",
              "        await google.colab.output.renderOutput(dataTable, element);\n",
              "        const docLink = document.createElement('div');\n",
              "        docLink.innerHTML = docLinkHtml;\n",
              "        element.appendChild(docLink);\n",
              "      }\n",
              "    </script>\n",
              "  </div>\n",
              "\n",
              "\n",
              "<div id=\"df-7d5a4327-3a00-4c31-afba-7263457d22f7\">\n",
              "  <button class=\"colab-df-quickchart\" onclick=\"quickchart('df-7d5a4327-3a00-4c31-afba-7263457d22f7')\"\n",
              "            title=\"Suggest charts\"\n",
              "            style=\"display:none;\">\n",
              "\n",
              "<svg xmlns=\"http://www.w3.org/2000/svg\" height=\"24px\"viewBox=\"0 0 24 24\"\n",
              "     width=\"24px\">\n",
              "    <g>\n",
              "        <path d=\"M19 3H5c-1.1 0-2 .9-2 2v14c0 1.1.9 2 2 2h14c1.1 0 2-.9 2-2V5c0-1.1-.9-2-2-2zM9 17H7v-7h2v7zm4 0h-2V7h2v10zm4 0h-2v-4h2v4z\"/>\n",
              "    </g>\n",
              "</svg>\n",
              "  </button>\n",
              "\n",
              "<style>\n",
              "  .colab-df-quickchart {\n",
              "      --bg-color: #E8F0FE;\n",
              "      --fill-color: #1967D2;\n",
              "      --hover-bg-color: #E2EBFA;\n",
              "      --hover-fill-color: #174EA6;\n",
              "      --disabled-fill-color: #AAA;\n",
              "      --disabled-bg-color: #DDD;\n",
              "  }\n",
              "\n",
              "  [theme=dark] .colab-df-quickchart {\n",
              "      --bg-color: #3B4455;\n",
              "      --fill-color: #D2E3FC;\n",
              "      --hover-bg-color: #434B5C;\n",
              "      --hover-fill-color: #FFFFFF;\n",
              "      --disabled-bg-color: #3B4455;\n",
              "      --disabled-fill-color: #666;\n",
              "  }\n",
              "\n",
              "  .colab-df-quickchart {\n",
              "    background-color: var(--bg-color);\n",
              "    border: none;\n",
              "    border-radius: 50%;\n",
              "    cursor: pointer;\n",
              "    display: none;\n",
              "    fill: var(--fill-color);\n",
              "    height: 32px;\n",
              "    padding: 0;\n",
              "    width: 32px;\n",
              "  }\n",
              "\n",
              "  .colab-df-quickchart:hover {\n",
              "    background-color: var(--hover-bg-color);\n",
              "    box-shadow: 0 1px 2px rgba(60, 64, 67, 0.3), 0 1px 3px 1px rgba(60, 64, 67, 0.15);\n",
              "    fill: var(--button-hover-fill-color);\n",
              "  }\n",
              "\n",
              "  .colab-df-quickchart-complete:disabled,\n",
              "  .colab-df-quickchart-complete:disabled:hover {\n",
              "    background-color: var(--disabled-bg-color);\n",
              "    fill: var(--disabled-fill-color);\n",
              "    box-shadow: none;\n",
              "  }\n",
              "\n",
              "  .colab-df-spinner {\n",
              "    border: 2px solid var(--fill-color);\n",
              "    border-color: transparent;\n",
              "    border-bottom-color: var(--fill-color);\n",
              "    animation:\n",
              "      spin 1s steps(1) infinite;\n",
              "  }\n",
              "\n",
              "  @keyframes spin {\n",
              "    0% {\n",
              "      border-color: transparent;\n",
              "      border-bottom-color: var(--fill-color);\n",
              "      border-left-color: var(--fill-color);\n",
              "    }\n",
              "    20% {\n",
              "      border-color: transparent;\n",
              "      border-left-color: var(--fill-color);\n",
              "      border-top-color: var(--fill-color);\n",
              "    }\n",
              "    30% {\n",
              "      border-color: transparent;\n",
              "      border-left-color: var(--fill-color);\n",
              "      border-top-color: var(--fill-color);\n",
              "      border-right-color: var(--fill-color);\n",
              "    }\n",
              "    40% {\n",
              "      border-color: transparent;\n",
              "      border-right-color: var(--fill-color);\n",
              "      border-top-color: var(--fill-color);\n",
              "    }\n",
              "    60% {\n",
              "      border-color: transparent;\n",
              "      border-right-color: var(--fill-color);\n",
              "    }\n",
              "    80% {\n",
              "      border-color: transparent;\n",
              "      border-right-color: var(--fill-color);\n",
              "      border-bottom-color: var(--fill-color);\n",
              "    }\n",
              "    90% {\n",
              "      border-color: transparent;\n",
              "      border-bottom-color: var(--fill-color);\n",
              "    }\n",
              "  }\n",
              "</style>\n",
              "\n",
              "  <script>\n",
              "    async function quickchart(key) {\n",
              "      const quickchartButtonEl =\n",
              "        document.querySelector('#' + key + ' button');\n",
              "      quickchartButtonEl.disabled = true;  // To prevent multiple clicks.\n",
              "      quickchartButtonEl.classList.add('colab-df-spinner');\n",
              "      try {\n",
              "        const charts = await google.colab.kernel.invokeFunction(\n",
              "            'suggestCharts', [key], {});\n",
              "      } catch (error) {\n",
              "        console.error('Error during call to suggestCharts:', error);\n",
              "      }\n",
              "      quickchartButtonEl.classList.remove('colab-df-spinner');\n",
              "      quickchartButtonEl.classList.add('colab-df-quickchart-complete');\n",
              "    }\n",
              "    (() => {\n",
              "      let quickchartButtonEl =\n",
              "        document.querySelector('#df-7d5a4327-3a00-4c31-afba-7263457d22f7 button');\n",
              "      quickchartButtonEl.style.display =\n",
              "        google.colab.kernel.accessAllowed ? 'block' : 'none';\n",
              "    })();\n",
              "  </script>\n",
              "</div>\n",
              "\n",
              "    </div>\n",
              "  </div>\n"
            ]
          },
          "metadata": {},
          "execution_count": 5
        }
      ]
    },
    {
      "cell_type": "code",
      "source": [
        "df.columns"
      ],
      "metadata": {
        "id": "rCW5CN-IfRCx",
        "outputId": "fe2cd21e-4d50-4d5d-83d5-fece5f48558c",
        "colab": {
          "base_uri": "https://localhost:8080/"
        }
      },
      "execution_count": 6,
      "outputs": [
        {
          "output_type": "execute_result",
          "data": {
            "text/plain": [
              "Index(['local_authority_id', 'local_authority_name', 'year', 'link_length_km',\n",
              "       'link_length_miles', 'cars_and_taxis', 'all_motor_vehicles'],\n",
              "      dtype='object')"
            ]
          },
          "metadata": {},
          "execution_count": 6
        }
      ]
    },
    {
      "cell_type": "markdown",
      "source": [
        "## Descriptive Analysis:\n",
        "Descriptive statistics summarize and describe the main features of a dataset. Common measures used in descriptive analysis include mean, median, mode, range, standard deviation, and percentiles."
      ],
      "metadata": {
        "id": "y71NgVe8g2rP"
      }
    },
    {
      "cell_type": "code",
      "source": [
        "# Descriptive Statistics\n",
        "import pandas as pd\n",
        "\n",
        "# Assuming your DataFrame is named df\n",
        "descriptive_stats = df.describe()\n",
        "\n",
        "# Additional Descriptive Statistics\n",
        "median = df.median()\n",
        "variance = df.var()\n",
        "skewness = df.skew()\n",
        "kurtosis = df.kurt()\n",
        "\n",
        "# Display Descriptive Statistics\n",
        "print(descriptive_stats)\n",
        "print(\"\\nMedian:\\n\", median)\n",
        "print(\"\\nVariance:\\n\", variance)\n",
        "print(\"\\nSkewness:\\n\", skewness)\n",
        "print(\"\\nKurtosis:\\n\", kurtosis)\n"
      ],
      "metadata": {
        "id": "I65jwu7Uf-_w",
        "outputId": "abfe1a79-6890-45cc-f679-25923a56683b",
        "colab": {
          "base_uri": "https://localhost:8080/"
        }
      },
      "execution_count": 7,
      "outputs": [
        {
          "output_type": "stream",
          "name": "stdout",
          "text": [
            "       local_authority_id         year  link_length_km  link_length_miles  \\\n",
            "count         5529.000000  5529.000000     5529.000000        5529.000000   \n",
            "mean           103.954784  2006.029481     1914.890071        1189.857482   \n",
            "std             59.894406     7.791677     2250.130227        1398.166153   \n",
            "min              1.000000  1993.000000       34.510000          21.440000   \n",
            "25%             52.000000  1999.000000      557.720000         346.550000   \n",
            "50%            104.000000  2006.000000      965.896000         600.180000   \n",
            "75%            156.000000  2013.000000     2024.887000        1258.210000   \n",
            "max            210.000000  2019.000000    13134.170000        8161.190000   \n",
            "\n",
            "       cars_and_taxis  all_motor_vehicles  \n",
            "count    5.529000e+03        5.529000e+03  \n",
            "mean     1.186597e+09        1.489398e+09  \n",
            "std      1.323949e+09        1.667924e+09  \n",
            "min      8.187832e+05        1.407915e+06  \n",
            "25%      4.373361e+08        5.455881e+08  \n",
            "50%      7.162136e+08        8.921869e+08  \n",
            "75%      1.226467e+09        1.550934e+09  \n",
            "max      8.216973e+09        1.032881e+10  \n",
            "\n",
            "Median:\n",
            " local_authority_id    1.040000e+02\n",
            "year                  2.006000e+03\n",
            "link_length_km        9.658960e+02\n",
            "link_length_miles     6.001800e+02\n",
            "cars_and_taxis        7.162136e+08\n",
            "all_motor_vehicles    8.921869e+08\n",
            "dtype: float64\n",
            "\n",
            "Variance:\n",
            " local_authority_id    3.587340e+03\n",
            "year                  6.071024e+01\n",
            "link_length_km        5.063086e+06\n",
            "link_length_miles     1.954869e+06\n",
            "cars_and_taxis        1.752842e+18\n",
            "all_motor_vehicles    2.781971e+18\n",
            "dtype: float64\n",
            "\n",
            "Skewness:\n",
            " local_authority_id    0.001236\n",
            "year                 -0.005867\n",
            "link_length_km        2.125865\n",
            "link_length_miles     2.125865\n",
            "cars_and_taxis        2.526951\n",
            "all_motor_vehicles    2.496696\n",
            "dtype: float64\n",
            "\n",
            "Kurtosis:\n",
            " local_authority_id   -1.198311\n",
            "year                 -1.204683\n",
            "link_length_km        4.457370\n",
            "link_length_miles     4.457369\n",
            "cars_and_taxis        6.906488\n",
            "all_motor_vehicles    6.690080\n",
            "dtype: float64\n"
          ]
        },
        {
          "output_type": "stream",
          "name": "stderr",
          "text": [
            "<ipython-input-7-c96ba5757798>:8: FutureWarning: The default value of numeric_only in DataFrame.median is deprecated. In a future version, it will default to False. In addition, specifying 'numeric_only=None' is deprecated. Select only valid columns or specify the value of numeric_only to silence this warning.\n",
            "  median = df.median()\n",
            "<ipython-input-7-c96ba5757798>:9: FutureWarning: The default value of numeric_only in DataFrame.var is deprecated. In a future version, it will default to False. In addition, specifying 'numeric_only=None' is deprecated. Select only valid columns or specify the value of numeric_only to silence this warning.\n",
            "  variance = df.var()\n",
            "<ipython-input-7-c96ba5757798>:10: FutureWarning: The default value of numeric_only in DataFrame.skew is deprecated. In a future version, it will default to False. In addition, specifying 'numeric_only=None' is deprecated. Select only valid columns or specify the value of numeric_only to silence this warning.\n",
            "  skewness = df.skew()\n",
            "<ipython-input-7-c96ba5757798>:11: FutureWarning: The default value of numeric_only in DataFrame.kurt is deprecated. In a future version, it will default to False. In addition, specifying 'numeric_only=None' is deprecated. Select only valid columns or specify the value of numeric_only to silence this warning.\n",
            "  kurtosis = df.kurt()\n"
          ]
        }
      ]
    },
    {
      "cell_type": "markdown",
      "source": [
        "## Inferential Statistics:\n",
        "Inferential statistics involve making inferences about a population based on a sample of data. Common techniques include hypothesis testing and confidence intervals."
      ],
      "metadata": {
        "id": "UyGL_4Fkg-z8"
      }
    },
    {
      "cell_type": "code",
      "source": [
        "# Example: Independent T-Test\n",
        "# Compare 'cars_and_taxis' for two groups (before and after 2000)\n",
        "group_before_2000 = df[df['year'] < 2000]['cars_and_taxis']\n",
        "group_after_2000 = df[df['year'] >= 2000]['cars_and_taxis']\n",
        "\n",
        "t_stat, p_value = ttest_ind(group_before_2000, group_after_2000)\n",
        "\n",
        "# Display results\n",
        "print(f\"Independent T-Test: t-statistic = {t_stat}, p-value = {p_value}\")\n"
      ],
      "metadata": {
        "id": "XJQ11Kkzg6Xo",
        "outputId": "52c46825-b5d6-458d-ade1-6a6fad2e0407",
        "colab": {
          "base_uri": "https://localhost:8080/"
        }
      },
      "execution_count": 9,
      "outputs": [
        {
          "output_type": "stream",
          "name": "stdout",
          "text": [
            "Independent T-Test: t-statistic = -3.1602065516342073, p-value = 0.0015850850334400855\n"
          ]
        }
      ]
    },
    {
      "cell_type": "code",
      "source": [
        "# Check for Missing Values\n",
        "missing_values = df.isnull().sum()\n",
        "\n",
        "# Display the count of missing values for each column\n",
        "print(\"Missing Values:\\n\", missing_values)\n"
      ],
      "metadata": {
        "id": "14uztR6ohCYc",
        "outputId": "ec52daa5-8976-44d3-cca9-91072b26057b",
        "colab": {
          "base_uri": "https://localhost:8080/"
        }
      },
      "execution_count": 10,
      "outputs": [
        {
          "output_type": "stream",
          "name": "stdout",
          "text": [
            "Missing Values:\n",
            " local_authority_id      0\n",
            "local_authority_name    0\n",
            "year                    0\n",
            "link_length_km          0\n",
            "link_length_miles       0\n",
            "cars_and_taxis          0\n",
            "all_motor_vehicles      0\n",
            "dtype: int64\n"
          ]
        }
      ]
    },
    {
      "cell_type": "code",
      "source": [
        "df2 = pd.read_csv(\"/content/Pakistani Traffic sentiment Analysis.csv\")"
      ],
      "metadata": {
        "id": "dCApHINpihQ-"
      },
      "execution_count": 11,
      "outputs": []
    },
    {
      "cell_type": "code",
      "source": [
        "df2.info()"
      ],
      "metadata": {
        "id": "EDDoqopMkTiI",
        "outputId": "04a9c2ae-3c51-47a1-9e67-2f6fe8c637b0",
        "colab": {
          "base_uri": "https://localhost:8080/"
        }
      },
      "execution_count": 12,
      "outputs": [
        {
          "output_type": "stream",
          "name": "stdout",
          "text": [
            "<class 'pandas.core.frame.DataFrame'>\n",
            "RangeIndex: 2110 entries, 0 to 2109\n",
            "Data columns (total 2 columns):\n",
            " #   Column  Non-Null Count  Dtype \n",
            "---  ------  --------------  ----- \n",
            " 0   Text    2110 non-null   object\n",
            " 1   Label   2110 non-null   object\n",
            "dtypes: object(2)\n",
            "memory usage: 33.1+ KB\n"
          ]
        }
      ]
    },
    {
      "cell_type": "markdown",
      "source": [
        "## Descriptive Analysis:"
      ],
      "metadata": {
        "id": "zO0msN-0kg_M"
      }
    },
    {
      "cell_type": "code",
      "source": [
        "# Descriptive Statistics for 'Label' column\n",
        "label_stats = df2['Label'].describe()\n",
        "\n",
        "# Display summary statistics\n",
        "print(\"Label Statistics:\\n\", label_stats)\n"
      ],
      "metadata": {
        "id": "Weno6P68kVFC",
        "outputId": "593aa763-a29d-468b-808a-7ff674f640d5",
        "colab": {
          "base_uri": "https://localhost:8080/"
        }
      },
      "execution_count": 13,
      "outputs": [
        {
          "output_type": "stream",
          "name": "stdout",
          "text": [
            "Label Statistics:\n",
            " count     2110\n",
            "unique       3\n",
            "top          1\n",
            "freq      1099\n",
            "Name: Label, dtype: object\n"
          ]
        }
      ]
    },
    {
      "cell_type": "markdown",
      "source": [
        "## Class Distribution:"
      ],
      "metadata": {
        "id": "f7zrxePAkniM"
      }
    },
    {
      "cell_type": "code",
      "source": [
        "# Class Distribution of 'Label'\n",
        "class_distribution = df2['Label'].value_counts()\n",
        "\n",
        "# Display class distribution\n",
        "print(\"Class Distribution:\\n\", class_distribution)\n"
      ],
      "metadata": {
        "id": "RjDrnCjxkkl-",
        "outputId": "8023cf8e-94ea-4898-eaa8-d90f8598b281",
        "colab": {
          "base_uri": "https://localhost:8080/"
        }
      },
      "execution_count": 14,
      "outputs": [
        {
          "output_type": "stream",
          "name": "stdout",
          "text": [
            "Class Distribution:\n",
            " 1        1099\n",
            "0        1010\n",
            "Label       1\n",
            "Name: Label, dtype: int64\n"
          ]
        }
      ]
    },
    {
      "cell_type": "markdown",
      "source": [
        "## Inferential Analysis:\n",
        "Hypothesis Testing:"
      ],
      "metadata": {
        "id": "OJ_D7817ktgd"
      }
    },
    {
      "cell_type": "code",
      "source": [
        "import nltk"
      ],
      "metadata": {
        "id": "Et5WMHQzlryq"
      },
      "execution_count": 21,
      "outputs": []
    },
    {
      "cell_type": "code",
      "source": [
        "from scipy.stats import chi2_contingency\n",
        "\n",
        "# Create a contingency table\n",
        "contingency_table = pd.crosstab(df2['Label'], columns='count')\n",
        "\n",
        "# Perform Chi-Square test\n",
        "chi2, p, _, _ = chi2_contingency(contingency_table)\n",
        "\n",
        "# Display results\n",
        "print(f\"Chi-Square Statistic: {chi2}\")\n",
        "print(f\"P-value: {p}\")\n"
      ],
      "metadata": {
        "id": "yzwy9KyxkrBh",
        "outputId": "0f1e73fc-c873-42e4-df8b-77b7a4b51e31",
        "colab": {
          "base_uri": "https://localhost:8080/"
        }
      },
      "execution_count": 15,
      "outputs": [
        {
          "output_type": "stream",
          "name": "stdout",
          "text": [
            "Chi-Square Statistic: 0.0\n",
            "P-value: 1.0\n"
          ]
        }
      ]
    },
    {
      "cell_type": "code",
      "source": [
        "nltk.download('stopwords')"
      ],
      "metadata": {
        "id": "98Wqf9rMlwgN",
        "outputId": "8217e062-3972-41e6-8f3b-356a475bb357",
        "colab": {
          "base_uri": "https://localhost:8080/"
        }
      },
      "execution_count": 22,
      "outputs": [
        {
          "output_type": "stream",
          "name": "stderr",
          "text": [
            "[nltk_data] Downloading package stopwords to /root/nltk_data...\n",
            "[nltk_data]   Unzipping corpora/stopwords.zip.\n"
          ]
        },
        {
          "output_type": "execute_result",
          "data": {
            "text/plain": [
              "True"
            ]
          },
          "metadata": {},
          "execution_count": 22
        }
      ]
    },
    {
      "cell_type": "code",
      "source": [
        "import pandas as pd\n",
        "from sklearn.model_selection import train_test_split\n",
        "from sklearn.feature_extraction.text import TfidfVectorizer\n",
        "from sklearn.naive_bayes import MultinomialNB\n",
        "from sklearn.pipeline import make_pipeline\n",
        "from sklearn.metrics import accuracy_score, classification_report\n",
        "from nltk.corpus import stopwords  # Add this import\n",
        "\n",
        "# Load your dataset\n",
        "# Assuming your DataFrame is named df\n",
        "# X is the feature (Text), y is the target (Label)\n",
        "X = df2['Text']\n",
        "y = df2['Label']\n",
        "\n",
        "# Split the dataset into training and testing sets\n",
        "X_train, X_test, y_train, y_test = train_test_split(X, y, test_size=0.2, random_state=42)\n",
        "\n",
        "# Build a pipeline with a TF-IDF vectorizer and a Naive Bayes classifier\n",
        "model = make_pipeline(TfidfVectorizer(stop_words=stopwords.words('english')), MultinomialNB())\n",
        "\n",
        "# Train the model\n",
        "model.fit(X_train, y_train)\n",
        "\n",
        "# Make predictions on the test set\n",
        "predictions = model.predict(X_test)\n",
        "\n",
        "# Evaluate the model\n",
        "accuracy = accuracy_score(y_test, predictions)\n",
        "report = classification_report(y_test, predictions)\n",
        "\n",
        "# Display results\n",
        "print(f\"Accuracy: {accuracy:.2f}\")\n",
        "print(\"\\nClassification Report:\\n\", report)\n"
      ],
      "metadata": {
        "id": "hRZNVfZOlMZo",
        "outputId": "71a443eb-eeab-439f-cc29-2179535d720d",
        "colab": {
          "base_uri": "https://localhost:8080/"
        }
      },
      "execution_count": 23,
      "outputs": [
        {
          "output_type": "stream",
          "name": "stdout",
          "text": [
            "Accuracy: 0.90\n",
            "\n",
            "Classification Report:\n",
            "               precision    recall  f1-score   support\n",
            "\n",
            "           0       0.87      0.92      0.89       195\n",
            "           1       0.93      0.89      0.91       227\n",
            "\n",
            "    accuracy                           0.90       422\n",
            "   macro avg       0.90      0.90      0.90       422\n",
            "weighted avg       0.90      0.90      0.90       422\n",
            "\n"
          ]
        }
      ]
    },
    {
      "cell_type": "code",
      "source": [
        "import pandas as pd\n",
        "from sklearn.model_selection import train_test_split\n",
        "from sklearn.feature_extraction.text import TfidfVectorizer\n",
        "from sklearn.naive_bayes import MultinomialNB\n",
        "from sklearn.linear_model import LogisticRegression\n",
        "from sklearn.svm import SVC\n",
        "from sklearn.ensemble import RandomForestClassifier\n",
        "from sklearn.pipeline import make_pipeline\n",
        "from sklearn.metrics import accuracy_score, classification_report\n",
        "from nltk.corpus import stopwords\n",
        "\n",
        "# Load your dataset\n",
        "# Assuming your DataFrame is named df\n",
        "# X is the feature (Text), y is the target (Label)\n",
        "X = df2['Text']\n",
        "y = df2['Label']\n",
        "\n",
        "# Split the dataset into training and testing sets\n",
        "X_train, X_test, y_train, y_test = train_test_split(X, y, test_size=0.2, random_state=42)\n",
        "\n",
        "# Models\n",
        "models = {\n",
        "    \"Naive Bayes\": MultinomialNB(),\n",
        "    \"Logistic Regression\": LogisticRegression(),\n",
        "    \"SVM\": SVC(),\n",
        "    \"Random Forest\": RandomForestClassifier()\n",
        "}\n",
        "\n",
        "# Train and evaluate each model\n",
        "for name, model in models.items():\n",
        "    pipeline = make_pipeline(TfidfVectorizer(stop_words=stopwords.words('english')), model)\n",
        "    pipeline.fit(X_train, y_train)\n",
        "    predictions = pipeline.predict(X_test)\n",
        "\n",
        "    accuracy = accuracy_score(y_test, predictions)\n",
        "    report = classification_report(y_test, predictions)\n",
        "\n",
        "    print(f\"\\n{name} Model:\")\n",
        "    print(f\"Accuracy: {accuracy:.2f}\")\n",
        "    print(\"Classification Report:\\n\", report)\n"
      ],
      "metadata": {
        "id": "6FxkT988lfZF",
        "outputId": "b3bca91a-4973-4ce3-827e-312189439257",
        "colab": {
          "base_uri": "https://localhost:8080/"
        }
      },
      "execution_count": 24,
      "outputs": [
        {
          "output_type": "stream",
          "name": "stdout",
          "text": [
            "\n",
            "Naive Bayes Model:\n",
            "Accuracy: 0.90\n",
            "Classification Report:\n",
            "               precision    recall  f1-score   support\n",
            "\n",
            "           0       0.87      0.92      0.89       195\n",
            "           1       0.93      0.89      0.91       227\n",
            "\n",
            "    accuracy                           0.90       422\n",
            "   macro avg       0.90      0.90      0.90       422\n",
            "weighted avg       0.90      0.90      0.90       422\n",
            "\n",
            "\n",
            "Logistic Regression Model:\n",
            "Accuracy: 0.98\n",
            "Classification Report:\n",
            "               precision    recall  f1-score   support\n",
            "\n",
            "           0       0.98      0.96      0.97       195\n",
            "           1       0.97      0.99      0.98       227\n",
            "\n",
            "    accuracy                           0.98       422\n",
            "   macro avg       0.98      0.98      0.98       422\n",
            "weighted avg       0.98      0.98      0.98       422\n",
            "\n",
            "\n",
            "SVM Model:\n",
            "Accuracy: 0.97\n",
            "Classification Report:\n",
            "               precision    recall  f1-score   support\n",
            "\n",
            "           0       0.99      0.95      0.97       195\n",
            "           1       0.96      0.99      0.98       227\n",
            "\n",
            "    accuracy                           0.97       422\n",
            "   macro avg       0.98      0.97      0.97       422\n",
            "weighted avg       0.97      0.97      0.97       422\n",
            "\n",
            "\n",
            "Random Forest Model:\n",
            "Accuracy: 0.95\n",
            "Classification Report:\n",
            "               precision    recall  f1-score   support\n",
            "\n",
            "           0       0.97      0.93      0.95       195\n",
            "           1       0.94      0.97      0.96       227\n",
            "\n",
            "    accuracy                           0.95       422\n",
            "   macro avg       0.95      0.95      0.95       422\n",
            "weighted avg       0.95      0.95      0.95       422\n",
            "\n"
          ]
        }
      ]
    }
  ],
  "metadata": {
    "colab": {
      "name": "Welcome To Colaboratory",
      "provenance": []
    },
    "kernelspec": {
      "display_name": "Python 3",
      "name": "python3"
    }
  },
  "nbformat": 4,
  "nbformat_minor": 0
}